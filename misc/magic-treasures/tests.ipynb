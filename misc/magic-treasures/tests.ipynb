{
 "metadata": {
  "language_info": {
   "codemirror_mode": {
    "name": "ipython",
    "version": 3
   },
   "file_extension": ".py",
   "mimetype": "text/x-python",
   "name": "python",
   "nbconvert_exporter": "python",
   "pygments_lexer": "ipython3",
   "version": "3.7.2-final"
  },
  "orig_nbformat": 2,
  "kernelspec": {
   "name": "python3",
   "display_name": "Python 3",
   "language": "python"
  }
 },
 "nbformat": 4,
 "nbformat_minor": 2,
 "cells": [
  {
   "cell_type": "code",
   "execution_count": 8,
   "metadata": {},
   "outputs": [
    {
     "output_type": "stream",
     "name": "stdout",
     "text": [
      "52 b'R' 0x52\n['52']\n61 b'a' 0x61\n['52', '61']\n72 b'r' 0x72\n['52', '61', '72']\n21 b'!' 0x21\n['52', '61', '72', '21']\n1A b'\\x1a' 0x1a\n['52', '61', '72', '21', '1A']\n07 b'\\x07' 0x7\n['52', '61', '72', '21', '1A', '07']\n00 b'\\x00' 0x0\n['52', '61', '72', '21', '1A', '07', '00']\n"
     ]
    }
   ],
   "source": [
    "import binascii\n",
    "\n",
    "file = \"test.txt\"\n",
    "\n",
    "with open(file, 'wb') as f:\n",
    "    magic_number = []\n",
    "    string = \"52 61 72 21 1A 07 00\"\n",
    "    for s in string.split(\" \"):\n",
    "        print(s, binascii.unhexlify(s), hex(int(s, 16)))\n",
    "        magic_number.append(s)\n",
    "        print(magic_number)\n",
    "        f.write(binascii.unhexlify(s))\n",
    "\n",
    "#print(bytearray(magic_number))"
   ]
  }
 ]
}